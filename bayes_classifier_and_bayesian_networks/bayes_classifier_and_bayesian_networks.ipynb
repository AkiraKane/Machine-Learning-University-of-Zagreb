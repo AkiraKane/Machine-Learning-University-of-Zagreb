{
 "cells": [
  {
   "cell_type": "markdown",
   "metadata": {},
   "source": [
    "Sveučilište u Zagrebu<br>\n",
    "Fakultet elektrotehnike i računarstva\n",
    "\n",
    "## Strojno učenje 2016./2017.\n",
    "\n",
    "<a href=\"http://www.fer.unizg.hr/predmet/su\">http://www.fer.unizg.hr/predmet/su</a>"
   ]
  },
  {
   "cell_type": "markdown",
   "metadata": {},
   "source": [
    "### Laboratorijska vježba 5: Bayesove mreže i naivni Bayesov klasifikator\n",
    "\n",
    "(c) 2015-2016 Jan Šnajder, Domagoj Alagić\n",
    "\n",
    "<i>Verzija: 0.1</i> <br/>\n",
    "<i>Zadnji put ažurirano: 27. prosinca 2016.</i> "
   ]
  },
  {
   "cell_type": "markdown",
   "metadata": {},
   "source": [
    "Objavljeno: **27. prosinca 2016.**<br>\n",
    "Rok za predaju: U terminu vježbe u tjednu od **2. siječnja 2017.**"
   ]
  },
  {
   "cell_type": "markdown",
   "metadata": {},
   "source": [
    "### Upute\n",
    "\n",
    "Peta laboratorijska vježba sastoji se od tri zadatka. Kako bi kvalitetnije, ali i na manje zamoran način usvojili gradivo ovog kolegija, potrudili smo se uključiti tri vrste zadataka: **1)** implementacija manjih algoritama, modela ili postupaka; **2)** eksperimenti s raznim modelima te njihovim hiperparametrima, te **3)** primjena modela na (stvarnim) podatcima. Ovim zadatcima pokrivamo dvije paradigme učenja: učenje izgradnjom (engl. *learning by building*) i učenje eksperimentiranjem (engl. *learning by experimenting*).\n",
    "\n",
    "U nastavku slijedite upute navedene u ćelijama s tekstom. Rješavanje vježbe svodi se na **dopunjavanje ove bilježnice**: umetanja ćelije ili više njih **ispod** teksta zadatka, pisanja odgovarajućeg kôda te evaluiranja ćelija. \n",
    "\n",
    "Osigurajte da u potpunosti **razumijete** kôd koji ste napisali. Kod predaje vježbe, morate biti u stanju na zahtjev asistenta (ili demonstratora) preinačiti i ponovno evaluirati Vaš kôd. Nadalje, morate razumjeti teorijske osnove onoga što radite, u okvirima onoga što smo obradili na predavanju. Ispod nekih zadataka možete naći i pitanja koja služe kao smjernice za bolje razumijevanje gradiva (**nemojte pisati** odgovore na pitanja u bilježnicu). Stoga se nemojte ograničiti samo na to da riješite zadatak, nego slobodno eksperimentirajte. To upravo i jest svrha ovih vježbi.\n",
    "\n",
    "Vježbe trebate raditi **samostalno**. Možete se konzultirati s drugima o načelnom načinu rješavanja, ali u konačnici morate sami odraditi vježbu. U protivnome vježba nema smisla."
   ]
  },
  {
   "cell_type": "code",
   "execution_count": 1,
   "metadata": {
    "collapsed": false
   },
   "outputs": [
    {
     "name": "stdout",
     "output_type": "stream",
     "text": [
      "Populating the interactive namespace from numpy and matplotlib\n"
     ]
    }
   ],
   "source": [
    "import numpy as np\n",
    "import pandas as pd\n",
    "import matplotlib.pyplot as plt\n",
    "%pylab inline\n",
    "%load_ext autoreload\n",
    "%autoreload 2"
   ]
  },
  {
   "cell_type": "markdown",
   "metadata": {},
   "source": [
    "### 1. Bayesove mreže"
   ]
  },
  {
   "cell_type": "markdown",
   "metadata": {},
   "source": [
    "Ovaj zadatak bavit će se Bayesovim mrežama, jednim od poznatijih probabilističkih grafičkih modela (*probabilistic graphical models*; PGM). Za lakše eksperimentiranje koristit ćemo programski paket [pgmpy](https://github.com/pgmpy/pgmpy). Molimo Vas da provjerite imate li ovaj paket te da ga instalirate ako ga nemate."
   ]
  },
  {
   "cell_type": "markdown",
   "metadata": {},
   "source": [
    "#### (a)\n",
    "\n",
    "Prvo ćemo pogledati udžbenički primjer s prskalicom. U ovom primjeru razmatramo Bayesovu mrežu koja modelira zavisnosti između oblačnosti (sl. varijabla $C$), kiše ($R$), prskalice ($S$) i mokre trave ($W$). U ovom primjeru također pretpostavljamo da već imamo parametre vjerojatnosnih distribucija svih čvorova. Sve varijable modelirane su Bernoullijevom razdiobom."
   ]
  },
  {
   "cell_type": "markdown",
   "metadata": {},
   "source": [
    "![This](bayes-net-sprinkler.jpg)"
   ]
  },
  {
   "cell_type": "markdown",
   "metadata": {},
   "source": [
    "Koristeći paket [pgmpy](https://github.com/pgmpy/pgmpy), konstruirajte Bayesovu mrežu iz gornjeg primjera. Zatim provedite **egzaktno** zaključivanje za sljedeće upite: $P(w=1)$, $P(s=1|w=1)$, $P(r=1|w=1)$, $P(c=1|s=1, r=1)$ i $P(c=1)$. Provedite zaključivanje na papiru i uvjerite se da ste ispravno konstruirali mrežu.\n",
    "\n",
    "**NB:** Bacite oko na službenu demonstraciju danu na https://github.com/pgmpy/pgmpy/blob/dev/examples/Monte%20Hall%20Problem.ipynb."
   ]
  },
  {
   "cell_type": "code",
   "execution_count": 2,
   "metadata": {
    "collapsed": false
   },
   "outputs": [],
   "source": [
    "from pgmpy.models import BayesianModel, NaiveBayes\n",
    "from pgmpy.factors import TabularCPD\n",
    "from pgmpy.inference import VariableElimination"
   ]
  },
  {
   "cell_type": "code",
   "execution_count": 3,
   "metadata": {
    "collapsed": false
   },
   "outputs": [],
   "source": [
    "sprinkler_model = BayesianModel([('Cloudy', 'Sprinkler'), \n",
    "                              ('Cloudy', 'Rain'),\n",
    "                              ('Rain', 'Wet Grass'),\n",
    "                              ('Sprinkler', 'Wet Grass')])"
   ]
  },
  {
   "cell_type": "code",
   "execution_count": 4,
   "metadata": {
    "collapsed": false
   },
   "outputs": [],
   "source": [
    "cloudy = TabularCPD(variable='Cloudy', variable_card=2, values=[[0.5], [0.5]])\n",
    "\n",
    "sprinkler = TabularCPD(\n",
    "    variable='Sprinkler', variable_card=2, values=[[0.5, 0.9], [0.5, 0.1]], evidence=['Cloudy'], evidence_card=[2]\n",
    ")\n",
    "rain = TabularCPD(\n",
    "    variable='Rain', variable_card=2, values=[[0.8, 0.2], [0.2, 0.8]], evidence=['Cloudy'], evidence_card=[2]\n",
    ")\n",
    "\n",
    "wet_grass = TabularCPD(\n",
    "    variable='Wet Grass', variable_card=2, evidence=['Sprinkler', 'Rain'], evidence_card=[2, 2], \n",
    "    values=[[1.0, 0.1, 0.1, 0.01],[0.0, 0.9, 0.9, 0.99]]\n",
    ")"
   ]
  },
  {
   "cell_type": "code",
   "execution_count": 5,
   "metadata": {
    "collapsed": false
   },
   "outputs": [
    {
     "data": {
      "text/plain": [
       "True"
      ]
     },
     "execution_count": 5,
     "metadata": {},
     "output_type": "execute_result"
    }
   ],
   "source": [
    "sprinkler_model.add_cpds(cloudy, sprinkler, rain, wet_grass)\n",
    "sprinkler_model.check_model()"
   ]
  },
  {
   "cell_type": "code",
   "execution_count": 6,
   "metadata": {
    "collapsed": false
   },
   "outputs": [
    {
     "name": "stdout",
     "output_type": "stream",
     "text": [
      "+-------------+------------------+\n",
      "| Wet Grass   |   phi(Wet Grass) |\n",
      "|-------------+------------------|\n",
      "| Wet Grass_0 |           0.3529 |\n",
      "| Wet Grass_1 |           0.6471 |\n",
      "+-------------+------------------+\n",
      "+-------------+------------------+\n",
      "| Sprinkler   |   phi(Sprinkler) |\n",
      "|-------------+------------------|\n",
      "| Sprinkler_0 |           0.5702 |\n",
      "| Sprinkler_1 |           0.4298 |\n",
      "+-------------+------------------+\n"
     ]
    }
   ],
   "source": [
    "infer = VariableElimination(sprinkler_model)\n",
    "\n",
    "posteriog_grass = infer.query(['Wet Grass'])\n",
    "print posteriog_grass['Wet Grass']\n",
    "\n",
    "posteriog_sprinkler = infer.query(['Sprinkler'], evidence={'Wet Grass': 1})\n",
    "print posteriog_sprinkler['Sprinkler']"
   ]
  },
  {
   "cell_type": "code",
   "execution_count": 7,
   "metadata": {
    "collapsed": false
   },
   "outputs": [
    {
     "name": "stdout",
     "output_type": "stream",
     "text": [
      "+--------+-------------+\n",
      "| Rain   |   phi(Rain) |\n",
      "|--------+-------------|\n",
      "| Rain_0 |      0.2921 |\n",
      "| Rain_1 |      0.7079 |\n",
      "+--------+-------------+\n",
      "+----------+---------------+\n",
      "| Cloudy   |   phi(Cloudy) |\n",
      "|----------+---------------|\n",
      "| Cloudy_0 |        0.5556 |\n",
      "| Cloudy_1 |        0.4444 |\n",
      "+----------+---------------+\n",
      "+----------+---------------+\n",
      "| Cloudy   |   phi(Cloudy) |\n",
      "|----------+---------------|\n",
      "| Cloudy_0 |        0.5000 |\n",
      "| Cloudy_1 |        0.5000 |\n",
      "+----------+---------------+\n"
     ]
    }
   ],
   "source": [
    "posteriog_rain = infer.query(['Rain'], evidence={'Wet Grass': 1})\n",
    "print posteriog_rain['Rain']\n",
    "\n",
    "posteriog_cloudy = infer.query(['Cloudy'], evidence={'Sprinkler': 1, 'Rain': 1})\n",
    "print posteriog_cloudy['Cloudy']\n",
    "\n",
    "posteriog_cloudy = infer.query(['Cloudy'])\n",
    "print posteriog_cloudy['Cloudy']"
   ]
  },
  {
   "cell_type": "markdown",
   "metadata": {},
   "source": [
    "**Q:** Koju zajedničku vjerojatnosnu razdiobu ova mreža modelira? Kako tu informaciju očitati iz mreže? <br>\n",
    "**Q:** U zadatku koristimo egzaktno zaključivanje. Kako ono radi? <br>\n",
    "**Q:** Ako je trava mokra ($w=1$), što je prema mreži vjerojatnije -- da je pala kiša ($r=1$) ili da je netko upalio prskalicu ($s=1$)? <br>\n",
    "**Q:** Zašto je vjerojatnost $P(c=1)$ drugačija od $P(c=1|s=1,r=1)$ ako znamo da čvorovi $S$ i $R$ nisu roditelji čvora $C$?"
   ]
  },
  {
   "cell_type": "markdown",
   "metadata": {},
   "source": [
    "#### (b)\n",
    "\n",
    "**Efekt objašnjavanja** (engl. *explaining away*) zanimljiv je fenomen u kojem se događa da se dvije varijable \"natječu\" za objašnjavanje treće. S obzirom na to da i prva i druga varijabla mogu samostalno objasniti treću, ono što se događa jest to da, ako znamo da se ostvarila treća varijabla, naše vjerovanje o prvoj varijabli mijenja ovisno o tome je li se ili nije dogodila druga varijabla (i obrnuto).\n",
    "\n",
    "Ovaj fenomen može se primijetiti na gornjoj mreži. U tom se slučaju varijable prskalice ($S$) i kiše ($R$) \"natječu\" za objašnjavanje mokre trave ($W$). Vaš zadatak je pokazati da se fenomen zaista događa."
   ]
  },
  {
   "cell_type": "code",
   "execution_count": 8,
   "metadata": {
    "collapsed": false
   },
   "outputs": [
    {
     "name": "stdout",
     "output_type": "stream",
     "text": [
      "P(Sprinkler|Wet Grass) =/= P(Sprinkler|Wet Grass, Rain)     --> EXPLAINING AWAY\n",
      "+-------------+------------------+\n",
      "| Sprinkler   |   phi(Sprinkler) |\n",
      "|-------------+------------------|\n",
      "| Sprinkler_0 |           0.5702 |\n",
      "| Sprinkler_1 |           0.4298 |\n",
      "+-------------+------------------+\n",
      "+-------------+------------------+\n",
      "| Sprinkler   |   phi(Sprinkler) |\n",
      "|-------------+------------------|\n",
      "| Sprinkler_0 |           0.8055 |\n",
      "| Sprinkler_1 |           0.1945 |\n",
      "+-------------+------------------+\n"
     ]
    }
   ],
   "source": [
    "sprinkler_model.local_independencies('Wet Grass')\n",
    "\n",
    "print 'P(Sprinkler|Wet Grass) =/= P(Sprinkler|Wet Grass, Rain)     --> EXPLAINING AWAY'\n",
    "posteriog_sprinkler = infer.query(['Sprinkler'], evidence={'Wet Grass': 1})\n",
    "print posteriog_sprinkler['Sprinkler']\n",
    "\n",
    "posteriog_sprinkler = infer.query(['Sprinkler'], evidence={'Wet Grass': 1, 'Rain': 1})\n",
    "print posteriog_sprinkler['Sprinkler']"
   ]
  },
  {
   "cell_type": "markdown",
   "metadata": {},
   "source": [
    "**Q:** Kako biste svojim riječima opisali ovaj fenomen, koristeći se ovim primjerom?"
   ]
  },
  {
   "cell_type": "markdown",
   "metadata": {},
   "source": [
    "#### (c) \n",
    "\n",
    "Koristeći [`BayesianModel.is_active_trail`](http://pgmpy.org/models.html#pgmpy.models.BayesianModel.BayesianModel.is_active_trail) provjerite jesu li varijable oblačnosti ($C$) i mokre trave ($W$) uvjetno nezavisne."
   ]
  },
  {
   "cell_type": "code",
   "execution_count": 9,
   "metadata": {
    "collapsed": false
   },
   "outputs": [
    {
     "data": {
      "text/plain": [
       "True"
      ]
     },
     "execution_count": 9,
     "metadata": {},
     "output_type": "execute_result"
    }
   ],
   "source": [
    "sprinkler_model.is_active_trail('Cloudy', 'Wet Grass')"
   ]
  },
  {
   "cell_type": "markdown",
   "metadata": {},
   "source": [
    "Što mora vrijediti kako te dvije varijable ne bi bile uvjetno nezavisne? Provjerite korištenjem iste funkcije."
   ]
  },
  {
   "cell_type": "code",
   "execution_count": 10,
   "metadata": {
    "collapsed": false
   },
   "outputs": [
    {
     "data": {
      "text/plain": [
       "False"
      ]
     },
     "execution_count": 10,
     "metadata": {},
     "output_type": "execute_result"
    }
   ],
   "source": [
    "sprinkler_model.is_active_trail('Cloudy', 'Wet Grass', observed=['Rain', 'Sprinkler'])"
   ]
  },
  {
   "cell_type": "markdown",
   "metadata": {},
   "source": [
    "**Q:** Kako možemo na temelju grafa saznati koje dvije varijable su, uz neka opažanja, uvjetno nezavisne? <br>\n",
    "**Q:** Zašto bismo uopće htjeli znati koje su varijable u mreži uvjetno nezavisne?"
   ]
  },
  {
   "cell_type": "markdown",
   "metadata": {},
   "source": [
    "### 2. Naivan Bayesov klasifikator"
   ]
  },
  {
   "cell_type": "markdown",
   "metadata": {},
   "source": [
    "Iako je naivni Bayes specijalna podvrsta Bayesovih mreža i mogao bi se modelirati paketom [pgmpy](https://github.com/pgmpy/pgmpy), ipak ćemo se vratiti na paket `sklearn` (radi jednostavnosti). Za demonstraciju rada Bayesovog klasifikatora s diskretnim značajkama treba nam skup primjera s diskretnim značajkama i oznakama klase. Jedan takav ogledni skup podataka jest *digits*:"
   ]
  },
  {
   "cell_type": "code",
   "execution_count": 11,
   "metadata": {
    "collapsed": false
   },
   "outputs": [
    {
     "data": {
      "text/plain": [
       "<matplotlib.figure.Figure at 0x7fa56e511090>"
      ]
     },
     "metadata": {},
     "output_type": "display_data"
    },
    {
     "data": {
      "image/png": "[encoded data removed]",
      "text/plain": [
       "<matplotlib.figure.Figure at 0x7fa5702f4f90>"
      ]
     },
     "metadata": {},
     "output_type": "display_data"
    }
   ],
   "source": [
    "from sklearn.datasets import load_digits\n",
    "digits = load_digits()\n",
    "\n",
    "plt.gray() \n",
    "plt.matshow(digits.images[0])\n",
    "plt.show();"
   ]
  },
  {
   "cell_type": "markdown",
   "metadata": {
    "collapsed": true
   },
   "source": [
    "#### (a)\n",
    "\n",
    "Ako na ovom skupu želimo trenirati Bernoullijev naivni Bayesov klasifikator, značajke trebamo binarizirati. Proučite funkciju [`binarize`](http://scikit-learn.org/stable/modules/generated/sklearn.preprocessing.binarize.html) i binarizirajte skup podataka.\n",
    "\n",
    "Na binariziranom skupu podataka možemo trenirati naš model. Naravno, da bismo mogli ispitati koliko dobro model radi, trebamo izdvojiti dio skupa za ispitivanje. Proučite funkciju [`train_test_split`](http://scikit-learn.org/stable/modules/generated/sklearn.model_selection.train_test_split.html#sklearn.model_selection.train_test_split) te načinite podjelu skupa na 70% primjera za učenje i 30% primjera za ispitivanje."
   ]
  },
  {
   "cell_type": "code",
   "execution_count": 12,
   "metadata": {
    "collapsed": true
   },
   "outputs": [],
   "source": [
    "from sklearn.preprocessing import binarize\n",
    "from sklearn import cross_validation"
   ]
  },
  {
   "cell_type": "code",
   "execution_count": 13,
   "metadata": {
    "collapsed": false
   },
   "outputs": [
    {
     "name": "stdout",
     "output_type": "stream",
     "text": [
      "Normal [[  0.   0.   5.  13.   9.   1.   0.   0.]\n",
      " [  0.   0.  13.  15.  10.  15.   5.   0.]\n",
      " [  0.   3.  15.   2.   0.  11.   8.   0.]\n",
      " [  0.   4.  12.   0.   0.   8.   8.   0.]\n",
      " [  0.   5.   8.   0.   0.   9.   8.   0.]\n",
      " [  0.   4.  11.   0.   1.  12.   7.   0.]\n",
      " [  0.   2.  14.   5.  10.  12.   0.   0.]\n",
      " [  0.   0.   6.  13.  10.   0.   0.   0.]]\n",
      "\n",
      "Bin [[ 0.  0.  1.  1.  1.  1.  0.  0.]\n",
      " [ 0.  0.  1.  1.  1.  1.  1.  0.]\n",
      " [ 0.  1.  1.  1.  0.  1.  1.  0.]\n",
      " [ 0.  1.  1.  0.  0.  1.  1.  0.]\n",
      " [ 0.  1.  1.  0.  0.  1.  1.  0.]\n",
      " [ 0.  1.  1.  0.  1.  1.  1.  0.]\n",
      " [ 0.  1.  1.  1.  1.  1.  0.  0.]\n",
      " [ 0.  0.  1.  1.  1.  0.  0.  0.]]\n",
      "\n",
      "Bin_ravel [ 0.  0.  1.  1.  1.  1.  0.  0.  0.  0.  1.  1.  1.  1.  1.  0.  0.  1.\n",
      "  1.  1.  0.  1.  1.  0.  0.  1.  1.  0.  0.  1.  1.  0.  0.  1.  1.  0.\n",
      "  0.  1.  1.  0.  0.  1.  1.  0.  1.  1.  1.  0.  0.  1.  1.  1.  1.  1.\n",
      "  0.  0.  0.  0.  1.  1.  1.  0.  0.  0.]\n"
     ]
    },
    {
     "name": "stderr",
     "output_type": "stream",
     "text": [
      "/home/weenkus/anaconda3/envs/ml27/lib/python2.7/site-packages/sklearn/utils/validation.py:386: DeprecationWarning: Passing 1d arrays as data is deprecated in 0.17 and willraise ValueError in 0.19. Reshape your data either using X.reshape(-1, 1) if your data has a single feature or X.reshape(1, -1) if it contains a single sample.\n",
      "  DeprecationWarning)\n"
     ]
    }
   ],
   "source": [
    "print 'Normal', digits.images[0]\n",
    "print '\\nBin', binarize(digits.images[0])\n",
    "print '\\nBin_ravel', binarize(digits.images[0].ravel())[0]\n",
    "\n",
    "binary_images = [binarize(image).ravel() for image in digits.images]"
   ]
  },
  {
   "cell_type": "code",
   "execution_count": 14,
   "metadata": {
    "collapsed": false
   },
   "outputs": [],
   "source": [
    "X_train, X_test, y_train, y_test = cross_validation.train_test_split(binary_images, digits.target, test_size=0.3)"
   ]
  },
  {
   "cell_type": "markdown",
   "metadata": {},
   "source": [
    "#### (b)\n",
    "\n",
    "Pročitajte opis modula [`naive_bayes`](http://scikit-learn.org/stable/modules/naive_bayes.html). Za klasifikaciju primjera s diskretnim značajkama treba nam tzv. *Bernoullijev naivni Bayes*, implementiran funkcijom [`BernoulliNB`](http://scikit-learn.org/stable/modules/generated/sklearn.naive_bayes.BernoulliNB.html#sklearn.naive_bayes.BernoulliNB]). Proučite tu funkciju. Trenirajte model na skupu *digits* (na skupu za učenje). Izračunajte točnost modela na skupu za učenje i na skupu za ispitivanje koristeći funkciju [`metrics.accuracy_score`](http://scikit-learn.org/stable/modules/generated/sklearn.metrics.accuracy_score.html)."
   ]
  },
  {
   "cell_type": "code",
   "execution_count": 15,
   "metadata": {
    "collapsed": true
   },
   "outputs": [],
   "source": [
    "import sklearn.naive_bayes as nbay\n",
    "from sklearn.metrics import accuracy_score"
   ]
  },
  {
   "cell_type": "code",
   "execution_count": 16,
   "metadata": {
    "collapsed": false
   },
   "outputs": [
    {
     "name": "stdout",
     "output_type": "stream",
     "text": [
      "Acc_train: 0.870326173429\n",
      "Acc_test: 0.831481481481\n"
     ]
    }
   ],
   "source": [
    "model = nbay.BernoulliNB()\n",
    "model.fit(X_train, y_train)\n",
    "\n",
    "print 'Acc_train:', accuracy_score(y_train, model.predict(X_train))\n",
    "print 'Acc_test:', accuracy_score(y_test, model.predict(X_test))"
   ]
  },
  {
   "cell_type": "markdown",
   "metadata": {},
   "source": [
    "**Q:** Je li odnos između tih dviju pogrešaka očekivan? Zašto?"
   ]
  },
  {
   "cell_type": "markdown",
   "metadata": {},
   "source": [
    "#### (c)\n",
    "\n",
    "Trenirajte model bez zaglađivanja (`alpha=0`) te izračunajte točnost takvog modela na oba skupa podataka."
   ]
  },
  {
   "cell_type": "code",
   "execution_count": 17,
   "metadata": {
    "collapsed": false
   },
   "outputs": [
    {
     "name": "stdout",
     "output_type": "stream",
     "text": [
      "Acc_train: 0.102625298329\n",
      "Acc_test: 0.0907407407407\n"
     ]
    }
   ],
   "source": [
    "model = nbay.BernoulliNB(alpha=0)\n",
    "model.fit(X_train, y_train)\n",
    "\n",
    "print 'Acc_train:', accuracy_score(y_train, model.predict(X_train))\n",
    "print 'Acc_test:', accuracy_score(y_test, model.predict(X_test))"
   ]
  },
  {
   "cell_type": "code",
   "execution_count": 18,
   "metadata": {
    "collapsed": false
   },
   "outputs": [
    {
     "name": "stdout",
     "output_type": "stream",
     "text": [
      "Acc_train: 0.87907716786\n",
      "Acc_test: 0.833333333333\n"
     ]
    }
   ],
   "source": [
    "model = nbay.BernoulliNB(alpha=0.001)\n",
    "model.fit(X_train, y_train)\n",
    "\n",
    "print 'Acc_train:', accuracy_score(y_train, model.predict(X_train))\n",
    "print 'Acc_test:', accuracy_score(y_test, model.predict(X_test))"
   ]
  },
  {
   "cell_type": "markdown",
   "metadata": {},
   "source": [
    "**Q:** U čemu je problem? Opišite svojim riječima."
   ]
  },
  {
   "cell_type": "markdown",
   "metadata": {},
   "source": [
    "### 3. Bayesov klasifikator za kontinuirane značajke"
   ]
  },
  {
   "cell_type": "markdown",
   "metadata": {},
   "source": [
    "#### (a)\n",
    "\n",
    "Učitajte skup podataka *Iris* i podijelite ga skup za učenje i skup za provjeru u omjeru 70:30. Koristite funkciju [`datasets.load_iris`](http://scikit-learn.org/stable/modules/generated/sklearn.datasets.load_iris.html)."
   ]
  },
  {
   "cell_type": "code",
   "execution_count": 19,
   "metadata": {
    "collapsed": true
   },
   "outputs": [],
   "source": [
    "from sklearn.datasets import load_iris\n",
    "from sklearn import cross_validation"
   ]
  },
  {
   "cell_type": "code",
   "execution_count": 20,
   "metadata": {
    "collapsed": false
   },
   "outputs": [
    {
     "name": "stdout",
     "output_type": "stream",
     "text": [
      "Classes: ['setosa' 'versicolor' 'virginica']\n"
     ]
    }
   ],
   "source": [
    "iris = load_iris()\n",
    "print 'Classes:', iris.target_names\n",
    "\n",
    "X_train, X_test, y_train, y_test = cross_validation.train_test_split(iris.data, iris.target, test_size=0.3)"
   ]
  },
  {
   "cell_type": "markdown",
   "metadata": {},
   "source": [
    "#### (b)\n",
    "\n",
    "Proučite razred [`GaussianNB`](http://scikit-learn.org/stable/modules/generated/sklearn.naive_bayes.GaussianNB.html) koji implementira naivan Bayesov klasifikator za kontinuirane značajke. Trenirajte model na skupu za učenje *Iris* i vrednujte njegovu točnost na skupu za ispitivanje."
   ]
  },
  {
   "cell_type": "code",
   "execution_count": 21,
   "metadata": {
    "collapsed": false
   },
   "outputs": [
    {
     "name": "stdout",
     "output_type": "stream",
     "text": [
      "Acc_train: 0.952380952381\n",
      "Acc_test: 0.977777777778\n"
     ]
    }
   ],
   "source": [
    "model = nbay.GaussianNB()\n",
    "model.fit(X_train, y_train)\n",
    "\n",
    "print 'Acc_train:', accuracy_score(y_train, model.predict(X_train))\n",
    "print 'Acc_test:', accuracy_score(y_test, model.predict(X_test))"
   ]
  },
  {
   "cell_type": "markdown",
   "metadata": {},
   "source": [
    "#### (c)\n",
    "\n",
    "Naivan Bayesov klasifikator u potpunosti zanemaruje korelacije između varijabli. Postavlja se pitanje bi li klasifikator na skupu *Iris* dosezao veću točnost kada bi modelirao (linearne) zavisnosti između varijabli.\n",
    "\n",
    "Implementirajte Bayesov klasifikator s punom kovarijacijskom matricom za svaku klasu (dakle: nedijeljenom i nedijagonalnom kovarijacijskom matricom). Implementacija se sastoji od dvije funkcije: `train_GB` i `predict_GB`. Funkcija `train_GB(X,y)` neka trenira model Bayesovog klasifikatora sa Gaussovim gustoćama vjerojatnosti i vraća trenirani model. Za procjenu vektora srednjih vrijednosti $\\mu_j$ i kovarijacijskih matrica $\\Sigma_j$ možete koristiti [ove](http://docs.scipy.org/doc/numpy/reference/routines.statistics.html) funkcije. Funkcija `predict_GB(model,X)` neka daje predikcije modela na svim primjerima iz `X`. Alternativno, model možete implementirati kao klasu, a funkcije `train_GB` i `predict_GB` kao njezine metode.\n"
   ]
  },
  {
   "cell_type": "code",
   "execution_count": 22,
   "metadata": {
    "collapsed": false
   },
   "outputs": [],
   "source": [
    "from scipy.stats import multivariate_normal"
   ]
  },
  {
   "cell_type": "code",
   "execution_count": 23,
   "metadata": {
    "collapsed": false
   },
   "outputs": [],
   "source": [
    "class MultivariantNaiveBayesGB(object):\n",
    "\n",
    "    def __init__(self):\n",
    "        self.mean = []\n",
    "        self.cov = []\n",
    "        self.probs = []\n",
    "\n",
    "    def fit(self, X, y):\n",
    "        targets = set(y)\n",
    "        print 'Number of classes:', len(targets)\n",
    "        \n",
    "        for target in targets:\n",
    "            X_target = X[y == target]\n",
    "            \n",
    "            prob = len(X_target)/float(len(y))\n",
    "            self.probs.append(prob)\n",
    "            \n",
    "            mean = np.mean(X_target, axis=0)\n",
    "            self.mean.append(mean)\n",
    "            \n",
    "            cov = np.cov(X_target.T)\n",
    "            self.cov.append(cov)\n",
    "\n",
    "    def predict(self, X):\n",
    "        targets_predictions = []\n",
    "        for target, mean in enumerate(self.mean):\n",
    "            cov = self.cov[target]\n",
    "            prob = self.probs[target]\n",
    "            \n",
    "            pred = multivariate_normal.pdf(X, mean=mean, cov=cov) * prob\n",
    "            targets_predictions.append(pred)\n",
    "            \n",
    "        targets_predictions = np.array(targets_predictions)\n",
    "        \n",
    "        predictions = []\n",
    "        for i in range(targets_predictions.shape[1]):\n",
    "            pred = np.argmax(targets_predictions[:, i])\n",
    "            predictions.append(pred)\n",
    "                \n",
    "        return np.array(predictions)"
   ]
  },
  {
   "cell_type": "markdown",
   "metadata": {},
   "source": [
    "#### (d)\n",
    "\n",
    "Izračunajte točnost modela na ispitnome dijelu skupa *Iris* i usporedite je s točnošću naivnog Bayesovog klasifikatora iz podzadatka (b)."
   ]
  },
  {
   "cell_type": "code",
   "execution_count": 24,
   "metadata": {
    "collapsed": false
   },
   "outputs": [
    {
     "name": "stdout",
     "output_type": "stream",
     "text": [
      "Number of classes: 3\n",
      "Acc_train: 1.0\n",
      "Acc_test: 0.955555555556\n"
     ]
    }
   ],
   "source": [
    "model = MultivariantNaiveBayesGB()\n",
    "model.fit(X_train, y_train)\n",
    "\n",
    "print 'Acc_train:', accuracy_score(y_train, model.predict(X_train))\n",
    "print 'Acc_test:', accuracy_score(y_test, model.predict(X_test))"
   ]
  },
  {
   "cell_type": "code",
   "execution_count": null,
   "metadata": {
    "collapsed": true
   },
   "outputs": [],
   "source": []
  }
 ],
 "metadata": {
  "anaconda-cloud": {},
  "kernelspec": {
   "display_name": "Python [conda env:ml27]",
   "language": "python",
   "name": "conda-env-ml27-py"
  },
  "language_info": {
   "codemirror_mode": {
    "name": "ipython",
    "version": 2
   },
   "file_extension": ".py",
   "mimetype": "text/x-python",
   "name": "python",
   "nbconvert_exporter": "python",
   "pygments_lexer": "ipython2",
   "version": "2.7.12"
  }
 },
 "nbformat": 4,
 "nbformat_minor": 1
}
